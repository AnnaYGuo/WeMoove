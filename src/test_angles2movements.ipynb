{
 "cells": [
  {
   "cell_type": "code",
   "execution_count": 4,
   "metadata": {},
   "outputs": [],
   "source": [
    "import os\n",
    "import pandas as pd\n",
    "import numpy as np\n",
    "from skimage import filters"
   ]
  },
  {
   "cell_type": "code",
   "execution_count": 5,
   "metadata": {},
   "outputs": [],
   "source": [
    "move_threshold = 100 # Euclidian distance for \"fast movement\"\n",
    "window_size = 12 # Frames for non-maximum suppression (24 per second), \n",
    "                # half of actual window size because both sides are checked"
   ]
  },
  {
   "cell_type": "code",
   "execution_count": 6,
   "metadata": {},
   "outputs": [],
   "source": [
    "# Function to calculate Euclidean distance between two points\n",
    "def euclidean_distance(p1, p2):\n",
    "    return np.linalg.norm(p1 - p2)\n",
    "\n",
    "# Function to calculate Euclidean distances between consecutive rows\n",
    "def calculate_distances(df):\n",
    "    distances = []\n",
    "    for i in range(1, len(df)):\n",
    "        distance = euclidean_distance(df.iloc[i-1], df.iloc[i])\n",
    "        distances.append(distance)\n",
    "    return distances\n",
    "\n",
    "def non_maximum_suppression(df, distances):\n",
    "    windows = []\n",
    "    indices = []\n",
    "    for i in range(0, len(distances)-2):\n",
    "        if distances[i] > move_threshold and distances[i+1] > move_threshold:\n",
    "            max_in_window = max(distances[max(0, i-window_size):min(len(distances), i+window_size+1)])\n",
    "            if distances[i] == max_in_window:\n",
    "                indices.append(i)\n",
    "                windows.append([max(0, i-window_size), min(len(distances), i+window_size+1)])\n",
    "    return indices, windows"
   ]
  },
  {
   "cell_type": "code",
   "execution_count": 10,
   "metadata": {},
   "outputs": [],
   "source": [
    "def get_movements(filepath):\n",
    "    with open(filepath, 'r') as file:\n",
    "        df = pd.read_csv(file)\n",
    "    distances = calculate_distances(df)\n",
    "    indices, windows = non_maximum_suppression(df, distances)\n",
    "    derivs = pd.DataFrame(df.iloc[np.array(indices) + 1].values - df.iloc[np.array(indices) - 1].values)\n",
    "    return windows, derivs"
   ]
  },
  {
   "cell_type": "code",
   "execution_count": 11,
   "metadata": {},
   "outputs": [
    {
     "name": "stdout",
     "output_type": "stream",
     "text": [
      "[\n",
      "\t['Chinese12.csv', [[480, 505], [561, 586], [683, 708], [799, 824], [1388, 1413], [1413, 1438], [1506, 1531], [1589, 1614]]],\n",
      "\t['Chinese14.csv', [[300, 325], [320, 345], [390, 415], [442, 467], [554, 579], [639, 664], [881, 906], [995, 1020], [1067, 1089]]],\n",
      "\t['Chinese15.csv', [[193, 218], [326, 351], [476, 501], [540, 565], [696, 721], [759, 784], [1083, 1108], [1226, 1251], [1600, 1625]]],\n",
      "\t['Chinese16.csv', []],\n",
      "\t['Chinese17.csv', [[79, 104], [122, 147], [137, 162], [205, 230], [263, 288], [287, 312], [308, 333], [562, 587], [589, 614], [619, 644], [642, 667], [680, 705], [717, 742], [762, 787], [784, 809], [818, 843], [867, 892], [893, 918]]],\n",
      "\t['Chinese19.csv', [[113, 138], [187, 212], [208, 233], [229, 254], [245, 270], [283, 308], [321, 346], [336, 361], [368, 393], [407, 432], [426, 451], [439, 464], [462, 487], [477, 502], [536, 561], [552, 577], [576, 601], [618, 643], [671, 696], [696, 721], [720, 745], [743, 768], [756, 781], [769, 794], [799, 824], [844, 869], [862, 887], [906, 931], [929, 954], [962, 987], [975, 1000], [989, 1014], [1032, 1057], [1049, 1074], [1097, 1122], [1131, 1156], [1177, 1202], [1195, 1220], [1342, 1367], [1371, 1396], [1427, 1452], [1444, 1469], [1469, 1494], [1498, 1523], [1521, 1546], [1544, 1569], [1564, 1589], [1583, 1608], [1639, 1664], [1693, 1718], [1716, 1741], [1734, 1759], [1772, 1797], [1791, 1816], [1821, 1846], [1834, 1859], [1862, 1887], [1929, 1954], [1942, 1967], [1969, 1994], [2002, 2027], [2016, 2041], [2031, 2056], [2046, 2071], [2068, 2093], [2117, 2142], [2141, 2166], [2158, 2183], [2173, 2198], [2225, 2250], [2252, 2277], [2272, 2297], [2287, 2312], [2342, 2367], [2364, 2389], [2379, 2404], [2411, 2436]]],\n",
      "\t['Chinese20.csv', [[0, 25], [25, 50], [51, 76], [72, 97], [101, 126], [128, 153], [151, 176], [168, 193], [200, 225], [228, 253], [267, 292], [283, 308], [307, 332], [332, 357], [349, 374], [364, 389], [379, 404], [395, 420], [423, 448], [462, 487], [500, 525], [543, 568], [565, 590], [591, 616], [626, 651], [646, 671], [672, 697], [693, 718], [715, 740], [733, 758], [773, 798], [802, 827], [816, 841], [835, 860], [865, 890], [889, 914], [906, 931], [924, 949], [949, 974], [962, 987], [1026, 1051], [1057, 1082], [1072, 1097], [1085, 1110], [1109, 1134], [1142, 1167], [1155, 1180], [1198, 1223], [1222, 1247], [1262, 1287], [1298, 1323], [1318, 1343], [1354, 1379], [1408, 1433], [1425, 1450], [1476, 1501], [1501, 1526], [1554, 1579], [1608, 1633], [1656, 1681], [1680, 1705], [1705, 1730], [1722, 1747], [1744, 1769], [1761, 1786], [1794, 1819], [1820, 1845], [1840, 1865], [1867, 1892], [1882, 1907], [1924, 1949], [1948, 1973], [2001, 2026]]],\n",
      "\t['Indian1.csv', [[159, 184], [982, 1007], [1050, 1075], [1316, 1341], [1361, 1386], [1727, 1752], [1912, 1937]]],\n",
      "\t['Indian2.csv', [[427, 452], [512, 537], [549, 574], [617, 642], [1178, 1203], [1296, 1321], [1403, 1428]]],\n",
      "\t['single_leg_balance_pro_dir.csv', [[55, 80]]],\n",
      "\t['single_leg_balance_test2_dir.csv', []],\n",
      "]\n"
     ]
    }
   ],
   "source": [
    "in_dir = \"../data/2_angles\"\n",
    "out_dir = \"../data/4_movements\"\n",
    "\n",
    "print(\"[\")\n",
    "for filename in os.listdir(in_dir):\n",
    "    filepath = os.path.join(in_dir, filename)\n",
    "    # with open(filepath, 'r') as file:\n",
    "    #     data = json.load(file)\n",
    "    # print(calculate_angles(parts_candidates))\n",
    "    windows, derivs = get_movements(filepath)\n",
    "\n",
    "# read_json(filepath)\n",
    "    output_path = os.path.join(out_dir, filename)\n",
    "    derivs.to_csv(output_path)\n",
    "    print(f\"\\t{[filename, windows]},\")\n",
    "print(\"]\")"
   ]
  }
 ],
 "metadata": {
  "kernelspec": {
   "display_name": "base",
   "language": "python",
   "name": "python3"
  },
  "language_info": {
   "codemirror_mode": {
    "name": "ipython",
    "version": 3
   },
   "file_extension": ".py",
   "mimetype": "text/x-python",
   "name": "python",
   "nbconvert_exporter": "python",
   "pygments_lexer": "ipython3",
   "version": "3.9.12"
  }
 },
 "nbformat": 4,
 "nbformat_minor": 2
}
