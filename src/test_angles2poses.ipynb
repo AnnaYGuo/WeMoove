{
 "cells": [
  {
   "cell_type": "code",
   "execution_count": 3,
   "metadata": {},
   "outputs": [],
   "source": [
    "import os\n",
    "import pandas as pd\n",
    "import numpy as np\n",
    "from skimage import filters"
   ]
  },
  {
   "cell_type": "code",
   "execution_count": 8,
   "metadata": {},
   "outputs": [],
   "source": [
    "pose_threshold = 30 # Euclidian distance for \"no significant movement\"\n",
    "window_size = 6 # Frames for non-minimum suppression (24 per second), \n",
    "                # half of actual window size because both sides are checked\n",
    "duplicate_threshold= 150 # prevent consecutive duplicate poses\n",
    "in_dir = \"../data/2_angles\"\n",
    "out_dir = \"../data/3_poses\""
   ]
  },
  {
   "cell_type": "code",
   "execution_count": 5,
   "metadata": {},
   "outputs": [],
   "source": [
    "# Function to calculate Euclidean distance between two points\n",
    "def euclidean_distance(p1, p2):\n",
    "    return np.linalg.norm(p1 - p2)\n",
    "\n",
    "# Function to calculate Euclidean distances between consecutive rows\n",
    "def calculate_distances(df):\n",
    "    distances = []\n",
    "    for i in range(1, len(df)):\n",
    "        distance = euclidean_distance(df.iloc[i-1], df.iloc[i])\n",
    "        distances.append(distance)\n",
    "    return distances\n",
    "\n",
    "def non_minimum_suppression(df, distances):\n",
    "    outliers = []\n",
    "    for i in range(0, len(distances)-2):\n",
    "        if distances[i] < pose_threshold and distances[i+1] < pose_threshold:\n",
    "            min_in_window = min(distances[max(0, i-window_size):min(len(distances), i+window_size+1)])\n",
    "            if distances[i] == min_in_window:\n",
    "                if len(outliers) == 0 or euclidean_distance(df.iloc[outliers[-1]], df.iloc[i]) > duplicate_threshold:\n",
    "                    outliers.append(i)\n",
    "                elif distances[outliers[-1]] + distances[outliers[-1]+1] > distances[i] + distances[i+1]:\n",
    "                    outliers[-1] = i\n",
    "    return outliers"
   ]
  },
  {
   "cell_type": "code",
   "execution_count": 50,
   "metadata": {},
   "outputs": [
    {
     "name": "stdout",
     "output_type": "stream",
     "text": [
      "104.28500402434139\n"
     ]
    }
   ],
   "source": [
    "filepath = \"../data/2_angles/Chinese14.csv\"\n",
    "with open(filepath, 'r') as file:\n",
    "    df = pd.read_csv(file)\n",
    "print(euclidean_distance(df.iloc[1], df.iloc[103]))"
   ]
  },
  {
   "cell_type": "code",
   "execution_count": 10,
   "metadata": {},
   "outputs": [],
   "source": [
    "def get_poses(filepath):\n",
    "    with open(filepath, 'r') as file:\n",
    "        df = pd.read_csv(file)\n",
    "    distances = calculate_distances(df)\n",
    "    outliers = non_minimum_suppression(df, distances)\n",
    "    df_filtered = df.iloc[outliers]\n",
    "    # print(\"Original DataFrame:\")\n",
    "    # print(df)\n",
    "    # print(\"\\nDataFrame after non-minimum suppression and dropping rows with distances exceeding the threshold:\")\n",
    "    # print(df_filtered)\n",
    "    # print(outliers)\n",
    "    return outliers, df_filtered\n",
    "\n",
    "# filepath = \"../data/2_angles/Chinese12.csv\"\n",
    "# frames, poses = get_poses(filepath)\n",
    "# print(frames)"
   ]
  },
  {
   "cell_type": "code",
   "execution_count": 57,
   "metadata": {},
   "outputs": [
    {
     "name": "stdout",
     "output_type": "stream",
     "text": [
      "[\n",
      "\t['Chinese12.csv', [24, 136, 196, 231, 318, 450, 475, 516, 540, 584, 600, 615, 650, 777, 821, 841, 900, 955, 1035, 1066, 1115, 1215, 1372, 1391, 1487, 1589, 1661, 1719, 1833]],\n",
      "\t['Chinese14.csv', [28, 129, 186, 209, 236, 357, 414, 428, 463, 489, 584, 792, 883, 989]],\n",
      "\t['Chinese15.csv', [7, 84, 223, 274, 285, 301, 364, 380, 421, 470, 545, 556, 622, 703, 804, 1004, 1106, 1130, 1198, 1333, 1385, 1441, 1513, 1659, 1686, 1714, 1729, 1739, 1774, 1840]],\n",
      "\t['Chinese16.csv', [12, 162]],\n",
      "\t['Chinese17.csv', [21, 144, 259, 337, 487, 515, 673, 753, 899]],\n",
      "\t['Chinese19.csv', [10, 519, 905, 1245, 1280, 1287, 1524, 1581, 2139, 2205]],\n",
      "\t['Chinese20.csv', [612, 1007, 1054, 1073, 1110, 1277, 1559, 1586, 1641, 1906, 2035]],\n",
      "\t['Indian1.csv', [3, 56, 115, 204, 302, 351, 360, 394, 476, 557, 669, 712, 747, 836, 885, 928, 961, 982, 1001, 1055, 1084, 1140, 1303, 1390, 1483, 1578, 1620, 1646, 1657, 1701, 1767, 1785, 1807, 1854, 1868, 1894, 1962, 1980, 1995, 2021, 2087, 2111, 2157, 2193, 2225, 2271, 2301, 2326, 2346, 2418]],\n",
      "\t['Indian2.csv', [26, 48, 95, 132, 182, 236, 289, 324, 366, 388, 454, 538, 569, 590, 608, 686, 742, 757, 804, 819, 880, 960, 1023, 1077, 1117, 1153, 1260, 1286, 1305, 1496, 1544, 1587, 1757, 1850]],\n",
      "\t['single_leg_balance_pro_dir.csv', [3, 86, 243, 437]],\n",
      "\t['single_leg_balance_test2_dir.csv', [16, 297, 410]],\n",
      "]\n"
     ]
    }
   ],
   "source": [
    "in_dir = \"../data/2_angles\"\n",
    "out_dir = \"../data/3_poses\"\n",
    "\n",
    "print(\"[\")\n",
    "for filename in os.listdir(in_dir):\n",
    "    filepath = os.path.join(in_dir, filename)\n",
    "    # with open(filepath, 'r') as file:\n",
    "    #     data = json.load(file)\n",
    "    # print(calculate_angles(parts_candidates))\n",
    "    frames, poses = get_poses(filepath)\n",
    "\n",
    "# read_json(filepath)\n",
    "    output_path = os.path.join(out_dir, filename)\n",
    "    poses.to_csv(output_path)\n",
    "    print(f\"\\t{[filename, frames]},\")\n",
    "print(\"]\")"
   ]
  },
  {
   "cell_type": "code",
   "execution_count": 11,
   "metadata": {},
   "outputs": [
    {
     "name": "stdout",
     "output_type": "stream",
     "text": [
      "\t['NeuralGlideMedianBias_train.csv', [38, 141, 205, 268, 352, 435, 576]],\n"
     ]
    }
   ],
   "source": [
    "import os\n",
    "filename = \"NeuralGlideMedianBias_train.csv\"\n",
    "filepath = os.path.join(in_dir, filename)\n",
    "# with open(filepath, 'r') as file:\n",
    "#     data = json.load(file)\n",
    "# print(calculate_angles(parts_candidates))\n",
    "frames, poses = get_poses(filepath)\n",
    "\n",
    "# read_json(filepath)\n",
    "output_path = os.path.join(out_dir, filename)\n",
    "poses.to_csv(output_path)\n",
    "print(f\"\\t{[filename, frames]},\")"
   ]
  }
 ],
 "metadata": {
  "kernelspec": {
   "display_name": "Python 3",
   "language": "python",
   "name": "python3"
  },
  "language_info": {
   "codemirror_mode": {
    "name": "ipython",
    "version": 3
   },
   "file_extension": ".py",
   "mimetype": "text/x-python",
   "name": "python",
   "nbconvert_exporter": "python",
   "pygments_lexer": "ipython3",
   "version": "3.9.12"
  }
 },
 "nbformat": 4,
 "nbformat_minor": 2
}
