{
 "cells": [
  {
   "cell_type": "code",
   "execution_count": 1,
   "metadata": {},
   "outputs": [],
   "source": [
    "import os\n",
    "import pandas as pd\n",
    "import numpy as np"
   ]
  },
  {
   "cell_type": "code",
   "execution_count": 31,
   "metadata": {},
   "outputs": [],
   "source": [
    "level = \"easy\"\n",
    "levels = {\n",
    "    \"easy\": 60,\n",
    "    \"medium\": 45,\n",
    "    \"hard\": 30,\n",
    "}\n",
    "\n",
    "round_val = levels[level]\n",
    "file_trainer = \"single_leg_balance_pro_dir.csv\"\n",
    "file_user = \"single_leg_balance_test2_dir.csv\"\n",
    "option = \"legs\""
   ]
  },
  {
   "cell_type": "code",
   "execution_count": 26,
   "metadata": {},
   "outputs": [],
   "source": [
    "pose_threshold = 6 # Euclidian distance for \"no significant movement\"\n",
    "window_size = 24 # Frames for non-minimum suppression (24 per second), \n",
    "                # half of actual window size because both sides are checked"
   ]
  },
  {
   "cell_type": "code",
   "execution_count": 5,
   "metadata": {},
   "outputs": [],
   "source": [
    "default = [\"MidHip-X\", \"MidHip-Y\"]\n",
    "neck = [\"Nose-Neck-RShoulder\", \"Nose-Neck-LShoulder\",]\n",
    "right_arm = [\"Neck-RShoulder-RElbow\", \"RShoulder-RElbow-RWrist\", \"RHip-RShoulder-RElbow\",]\n",
    "left_arm = [\"Neck-LShoulder-LElbow\", \"LShoulder-LElbow-LWrist\", \"LHip-LShoulder-LElbow\",]\n",
    "torso = [\"MidHip-RHip-RShoulder\", \"MidHip-LHip-LShoulder\",]\n",
    "right_leg = [\"MidHip-RHip-RKnee\", \"RHip-RKnee-RAnkle\", \"RKnee-RAnkle-RBigToe\",]\n",
    "left_leg = [\"MidHip-LHip-LKnee\", \"LHip-LKnee-LAnkle\", \"LKnee-LAnkle-LBigToe\",]\n",
    "arms = np.append(left_arm, right_arm)\n",
    "legs = np.append(left_leg, right_leg)\n",
    "limbs = np.append(arms, legs)\n",
    "all_parts = np.append(np.append(default, neck), np.append(torso, limbs))\n",
    "\n",
    "options = {\n",
    "    \"default\": default,\n",
    "    \"neck\": neck,\n",
    "    \"right_arm\": right_arm,\n",
    "    \"left_arm\": left_arm,\n",
    "    \"torso\": torso,\n",
    "    \"right_leg\": right_leg,\n",
    "    \"left_leg\": left_leg,\n",
    "    \"arms\": arms,\n",
    "    \"legs\": legs,\n",
    "    \"limbs\": limbs,\n",
    "    \"all\": all_parts\n",
    "}"
   ]
  },
  {
   "cell_type": "code",
   "execution_count": 19,
   "metadata": {},
   "outputs": [],
   "source": [
    "def euclidean_of_subset(p1, p2, included_columns):\n",
    "    modified_p1 = p1.copy()\n",
    "    modified_p2 = p2.copy()\n",
    "    for col in included_columns:\n",
    "        if abs(p1[col] - p2[col]) <= levels[level]:\n",
    "            modified_p1[col] = 0\n",
    "            modified_p2[col] = 0\n",
    "    return np.linalg.norm(modified_p1[included_columns].values[1:] -  modified_p2[included_columns].values[1:]) "
   ]
  },
  {
   "cell_type": "code",
   "execution_count": 36,
   "metadata": {},
   "outputs": [
    {
     "name": "stdout",
     "output_type": "stream",
     "text": [
      "97.24351524309196\n"
     ]
    }
   ],
   "source": [
    "angle_dir = \"../data/2_angles\"\n",
    "with open(os.path.join(angle_dir, file_trainer), \"r\") as file:\n",
    "    df_trainer = pd.read_csv(file)\n",
    "with open(os.path.join(angle_dir, file_user), \"r\") as file:\n",
    "    df_user = pd.read_csv(file)\n",
    "\n",
    "dist = []\n",
    "for ii in range(len(df_user)):\n",
    "    dist.append(euclidean_of_subset(df_trainer.iloc[ii], df_user.iloc[ii], options[option]))\n",
    "\n",
    "score = 100 - np.mean(dist) / 10\n",
    "print((score))"
   ]
  },
  {
   "cell_type": "code",
   "execution_count": 37,
   "metadata": {},
   "outputs": [
    {
     "name": "stdout",
     "output_type": "stream",
     "text": [
      "97.24351524309196\n"
     ]
    }
   ],
   "source": [
    "dist = []\n",
    "for ii in range(len(df_user)):\n",
    "    dist.append(euclidean_of_subset(df_trainer.iloc[ii], df_user.iloc[ii], options[\"all\"]))\n",
    "\n",
    "score_all = 100 - np.mean(dist) / 10\n",
    "print((score))"
   ]
  }
 ],
 "metadata": {
  "kernelspec": {
   "display_name": "Python 3",
   "language": "python",
   "name": "python3"
  },
  "language_info": {
   "codemirror_mode": {
    "name": "ipython",
    "version": 3
   },
   "file_extension": ".py",
   "mimetype": "text/x-python",
   "name": "python",
   "nbconvert_exporter": "python",
   "pygments_lexer": "ipython3",
   "version": "3.10.2"
  }
 },
 "nbformat": 4,
 "nbformat_minor": 2
}
