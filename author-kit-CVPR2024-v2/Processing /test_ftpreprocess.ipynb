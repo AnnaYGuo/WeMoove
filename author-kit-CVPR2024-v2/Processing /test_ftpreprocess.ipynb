{
 "cells": [
  {
   "cell_type": "code",
   "metadata": {
    "ExecuteTime": {
     "end_time": "2024-05-01T22:30:26.397240Z",
     "start_time": "2024-05-01T22:30:26.383577Z"
    }
   },
   "source": [
    "import json\n",
    "\n",
    "# Load the JSON data\n",
    "def read_json(file): #'Chinese16\\Chinese16_000000000000_keypoints.json'\n",
    "    with open(file, 'r') as file:\n",
    "        data = json.load(file)\n",
    "\n",
    "    # Extract part_candidates\n",
    "    part_candidates = data['part_candidates'][0]\n",
    "\n",
    "    # Print the extracted part_candidates\n",
    "    # print(\"Part Candidates:\")\n",
    "    # for key, value in part_candidates.items():\n",
    "        # print(f\"Part {key}: {value}\")\n",
    "    return part_candidates"
   ],
   "outputs": [],
   "execution_count": 22
  },
  {
   "cell_type": "markdown",
   "metadata": {},
   "source": [
    "{0,  \"Nose\"},\n",
    "{1,  \"Neck\"},\n",
    "{2,  \"RShoulder\"},\n",
    "{3,  \"RElbow\"},\n",
    "{4,  \"RWrist\"},\n",
    "{5,  \"LShoulder\"},\n",
    "{6,  \"LElbow\"},\n",
    "{7,  \"LWrist\"},\n",
    "{8,  \"MidHip\"},\n",
    "{9,  \"RHip\"},\n",
    "{10, \"RKnee\"},\n",
    "{11, \"RAnkle\"},\n",
    "{12, \"LHip\"},\n",
    "{13, \"LKnee\"},\n",
    "{14, \"LAnkle\"},\n",
    "{15, \"REye\"},\n",
    "{16, \"LEye\"},\n",
    "{17, \"REar\"},\n",
    "{18, \"LEar\"},\n",
    "{19, \"LBigToe\"},\n",
    "{20, \"LSmallToe\"},\n",
    "{21, \"LHeel\"},\n",
    "{22, \"RBigToe\"},\n",
    "{23, \"RSmallToe\"},\n",
    "{24, \"RHeel\"},\n",
    "{25, \"Background\"}\n",
    "\n",
    "                Initial_side    Vertex          Terminal_Side\n",
    "0   0-1-2       Nose            Neck            RShoulder\n",
    "1   0-1-5       Nose            Neck            LShoulder\n",
    "2   1-2-3       Neck            RShoulder       RElbow\n",
    "3   1-5-6       Neck            LShoulder       LElbow\n",
    "4   2-3-4       RShoulder       RElbow          RWrist\n",
    "5   5-6-7       LShoulder       LElbow          LWrist\n",
    "6   9-2-3       RHip            RShoulder       RElbow\n",
    "7   12-5-6      LHip            LShoulder       LElbow\n",
    "8   8-9-2       MidHip          RHip            RShoulder\n",
    "9   8-12-5      MidHip          LHip            LShoulder\n",
    "10  8-9-10      MidHip          RHip            RKnee\n",
    "11  8-12-13     MidHip          LHip            LKnee\n",
    "12  9-10-11     RHip            RKnee           RAnkle\n",
    "13  12-13-14    LHip            LKnee           LAnkle\n",
    "14  10-11-22    RKnee           RAnkle          RBigToe\n",
    "15  13-14-19    LKnee           LAnkle          LBigToe"
   ]
  },
  {
   "cell_type": "code",
   "metadata": {
    "ExecuteTime": {
     "end_time": "2024-05-01T22:30:26.596752Z",
     "start_time": "2024-05-01T22:30:26.505578Z"
    }
   },
   "source": [
    "angle_indices = [\n",
    "    ['0', '1', '2'],\n",
    "    ['0', '1', '5'],\n",
    "    ['1', '2', '3'],\n",
    "    ['1', '5', '6'],\n",
    "    ['2', '3', '4'],\n",
    "    ['5', '6', '7'],\n",
    "    ['9', '2', '3'],\n",
    "    ['12', '5', '6'],\n",
    "    ['8', '9', '2'],\n",
    "    ['8', '12', '5'],\n",
    "    ['8', '9', '10'],\n",
    "    ['8', '12', '13'],\n",
    "    ['9', '10', '11'],\n",
    "    ['12', '13', '14'],\n",
    "    ['10', '11', '22'],\n",
    "    ['13', '14', '19']\n",
    "]\n",
    "\n",
    "import math\n",
    "def calculate_angle(initial_side, vertex, terminal_side):\n",
    "    # Calculate the vectors representing the initial side and terminal side\n",
    "    vector1 = (initial_side[0] - vertex[0], initial_side[1] - vertex[1])\n",
    "    vector2 = (terminal_side[0] - vertex[0], terminal_side[1] - vertex[1])\n",
    "    # Calculate the dot product of the two vectors\n",
    "    dot_product = vector1[0] * vector2[0] + vector1[1] * vector2[1]\n",
    "    # Calculate the magnitudes of the vectors\n",
    "    magnitude1 = math.sqrt(vector1[0] ** 2 + vector1[1] ** 2)\n",
    "    magnitude2 = math.sqrt(vector2[0] ** 2 + vector2[1] ** 2)\n",
    "    # Calculate the angle between the two vectors using arctangent\n",
    "    angle_rad = math.acos(dot_product / (magnitude1 * magnitude2))\n",
    "    angle_deg = math.degrees(angle_rad)\n",
    "    return angle_deg\n",
    "\n",
    "def calculate_angles(part_candidates):\n",
    "    angles = []\n",
    "    for angle_index in angle_indices:\n",
    "        angles.append(calculate_angle(\n",
    "            [part_candidates[angle_index[0]][0], part_candidates[angle_index[0]][1]],\n",
    "            [part_candidates[angle_index[1]][0], part_candidates[angle_index[1]][1]],\n",
    "            [part_candidates[angle_index[2]][0], part_candidates[angle_index[2]][1]]\n",
    "        ))\n",
    "    return angles\n",
    "print(calculate_angles(read_json(\"Chinese16\\Chinese16_000000000000_keypoints.json\")))"
   ],
   "outputs": [
    {
     "ename": "FileNotFoundError",
     "evalue": "[Errno 2] No such file or directory: 'Chinese16\\\\Chinese16_000000000000_keypoints.json'",
     "output_type": "error",
     "traceback": [
      "\u001B[1;31m---------------------------------------------------------------------------\u001B[0m",
      "\u001B[1;31mFileNotFoundError\u001B[0m                         Traceback (most recent call last)",
      "Cell \u001B[1;32mIn[23], line 44\u001B[0m\n\u001B[0;32m     38\u001B[0m         angles\u001B[38;5;241m.\u001B[39mappend(calculate_angle(\n\u001B[0;32m     39\u001B[0m             [part_candidates[angle_index[\u001B[38;5;241m0\u001B[39m]][\u001B[38;5;241m0\u001B[39m], part_candidates[angle_index[\u001B[38;5;241m0\u001B[39m]][\u001B[38;5;241m1\u001B[39m]],\n\u001B[0;32m     40\u001B[0m             [part_candidates[angle_index[\u001B[38;5;241m1\u001B[39m]][\u001B[38;5;241m0\u001B[39m], part_candidates[angle_index[\u001B[38;5;241m1\u001B[39m]][\u001B[38;5;241m1\u001B[39m]],\n\u001B[0;32m     41\u001B[0m             [part_candidates[angle_index[\u001B[38;5;241m2\u001B[39m]][\u001B[38;5;241m0\u001B[39m], part_candidates[angle_index[\u001B[38;5;241m2\u001B[39m]][\u001B[38;5;241m1\u001B[39m]]\n\u001B[0;32m     42\u001B[0m         ))\n\u001B[0;32m     43\u001B[0m     \u001B[38;5;28;01mreturn\u001B[39;00m angles\n\u001B[1;32m---> 44\u001B[0m \u001B[38;5;28mprint\u001B[39m(calculate_angles(read_json(\u001B[38;5;124m\"\u001B[39m\u001B[38;5;124mChinese16\u001B[39m\u001B[38;5;124m\\\u001B[39m\u001B[38;5;124mChinese16_000000000000_keypoints.json\u001B[39m\u001B[38;5;124m\"\u001B[39m)))\n",
      "Cell \u001B[1;32mIn[22], line 5\u001B[0m, in \u001B[0;36mread_json\u001B[1;34m(file)\u001B[0m\n\u001B[0;32m      4\u001B[0m \u001B[38;5;28;01mdef\u001B[39;00m \u001B[38;5;21mread_json\u001B[39m(file): \u001B[38;5;66;03m#'Chinese16\\Chinese16_000000000000_keypoints.json'\u001B[39;00m\n\u001B[1;32m----> 5\u001B[0m     \u001B[38;5;28;01mwith\u001B[39;00m \u001B[38;5;28mopen\u001B[39m(file, \u001B[38;5;124m'\u001B[39m\u001B[38;5;124mr\u001B[39m\u001B[38;5;124m'\u001B[39m) \u001B[38;5;28;01mas\u001B[39;00m file:\n\u001B[0;32m      6\u001B[0m         data \u001B[38;5;241m=\u001B[39m json\u001B[38;5;241m.\u001B[39mload(file)\n\u001B[0;32m      8\u001B[0m     \u001B[38;5;66;03m# Extract part_candidates\u001B[39;00m\n",
      "File \u001B[1;32m~\\anaconda3\\Lib\\site-packages\\IPython\\core\\interactiveshell.py:310\u001B[0m, in \u001B[0;36m_modified_open\u001B[1;34m(file, *args, **kwargs)\u001B[0m\n\u001B[0;32m    303\u001B[0m \u001B[38;5;28;01mif\u001B[39;00m file \u001B[38;5;129;01min\u001B[39;00m {\u001B[38;5;241m0\u001B[39m, \u001B[38;5;241m1\u001B[39m, \u001B[38;5;241m2\u001B[39m}:\n\u001B[0;32m    304\u001B[0m     \u001B[38;5;28;01mraise\u001B[39;00m \u001B[38;5;167;01mValueError\u001B[39;00m(\n\u001B[0;32m    305\u001B[0m         \u001B[38;5;124mf\u001B[39m\u001B[38;5;124m\"\u001B[39m\u001B[38;5;124mIPython won\u001B[39m\u001B[38;5;124m'\u001B[39m\u001B[38;5;124mt let you open fd=\u001B[39m\u001B[38;5;132;01m{\u001B[39;00mfile\u001B[38;5;132;01m}\u001B[39;00m\u001B[38;5;124m by default \u001B[39m\u001B[38;5;124m\"\u001B[39m\n\u001B[0;32m    306\u001B[0m         \u001B[38;5;124m\"\u001B[39m\u001B[38;5;124mas it is likely to crash IPython. If you know what you are doing, \u001B[39m\u001B[38;5;124m\"\u001B[39m\n\u001B[0;32m    307\u001B[0m         \u001B[38;5;124m\"\u001B[39m\u001B[38;5;124myou can use builtins\u001B[39m\u001B[38;5;124m'\u001B[39m\u001B[38;5;124m open.\u001B[39m\u001B[38;5;124m\"\u001B[39m\n\u001B[0;32m    308\u001B[0m     )\n\u001B[1;32m--> 310\u001B[0m \u001B[38;5;28;01mreturn\u001B[39;00m io_open(file, \u001B[38;5;241m*\u001B[39margs, \u001B[38;5;241m*\u001B[39m\u001B[38;5;241m*\u001B[39mkwargs)\n",
      "\u001B[1;31mFileNotFoundError\u001B[0m: [Errno 2] No such file or directory: 'Chinese16\\\\Chinese16_000000000000_keypoints.json'"
     ]
    }
   ],
   "execution_count": 23
  },
  {
   "cell_type": "code",
   "metadata": {
    "ExecuteTime": {
     "end_time": "2024-05-01T22:30:26.602456Z",
     "start_time": "2024-05-01T22:30:26.596752Z"
    }
   },
   "source": [
    "def reorganize_sets(msets):\n",
    "    # Initialize the reorganized sets\n",
    "    reorganized_sets = [[] for _ in range(25)]\n",
    "    person = 0\n",
    "    # Iterate through each set of arrays\n",
    "    for set_index, set_array in enumerate(msets):\n",
    "        # Iterate through each array in the set\n",
    "        # for ii in range(len(msets)):\n",
    "        # Extract x, y coordinates from the array\n",
    "        for key, values in msets[set_index].items():\n",
    "            part_index = int(key)\n",
    "            x = values[person * 3]\n",
    "            y = values[person * 3 + 1]\n",
    "            # Append [x, y] to the corresponding reorganized set\n",
    "            reorganized_sets[part_index].append([x, y]) #set_index = index of element\n",
    "\n",
    "    return reorganized_sets"
   ],
   "outputs": [],
   "execution_count": null
  },
  {
   "cell_type": "code",
   "metadata": {},
   "source": [
    "import os\n",
    "\n",
    "directory = \"Chinese16\"\n",
    "sets = []\n",
    "\n",
    "for filename in os.listdir(directory):\n",
    "    filepath = os.path.join(directory, filename)\n",
    "    sets.append(read_json(filepath))\n",
    "# print(sets)"
   ],
   "outputs": [],
   "execution_count": null
  },
  {
   "cell_type": "code",
   "metadata": {
    "ExecuteTime": {
     "end_time": "2024-05-01T22:30:26.636401Z",
     "start_time": "2024-05-01T22:30:26.627002Z"
    }
   },
   "source": [
    "reorganized_sets = reorganize_sets(sets)\n",
    "print(reorganized_sets)"
   ],
   "outputs": [
    {
     "name": "stdout",
     "output_type": "stream",
     "text": [
      "[[], [], [], [], [], [], [], [], [], [], [], [], [], [], [], [], [], [], [], [], [], [], [], [], []]\n"
     ]
    }
   ],
   "execution_count": 24
  },
  {
   "cell_type": "code",
   "metadata": {
    "ExecuteTime": {
     "end_time": "2024-05-01T22:30:26.743864Z",
     "start_time": "2024-05-01T22:30:26.723842Z"
    }
   },
   "source": [
    "import matplotlib.pyplot as plt\n",
    "\n",
    "def plot_coordinates(coordinates):\n",
    "    x_values = [coord[0] for coord in coordinates]\n",
    "    y_values = [coord[1] for coord in coordinates]\n",
    "    indices = list(range(len(coordinates)))\n",
    "\n",
    "    # Plot x-coordinates against indices\n",
    "    plt.plot(indices, x_values, marker='o', linestyle='-', color='b', label='x-coordinates')\n",
    "    plt.xlabel('Index')\n",
    "    plt.ylabel('X-coordinate')\n",
    "    plt.title('X-coordinate vs Index')\n",
    "    plt.legend()\n",
    "    plt.show()\n",
    "\n",
    "    # Plot y-coordinates against indices\n",
    "    plt.plot(indices, y_values, marker='o', linestyle='-', color='r', label='y-coordinates')\n",
    "    plt.xlabel('Index')\n",
    "    plt.ylabel('Y-coordinate')\n",
    "    plt.title('Y-coordinate vs Index')\n",
    "    plt.legend()\n",
    "    plt.show()\n",
    "\n",
    "# plot_coordinates(reorganized_sets[0])\n",
    "def plot_coordinates_with_derivatives_and_angles(derivatives_and_angles):\n",
    "    indices = list(range(len(derivatives_and_angles)))\n",
    "\n",
    "    # Plot x-coordinates derivatives against indices\n",
    "    plt.plot(indices, derivatives_and_angles[:, 0], marker='o', linestyle='-', color='b', label='x-derivative')\n",
    "    plt.xlabel('Index')\n",
    "    plt.ylabel('X-coordinate Derivative')\n",
    "    plt.title('X-coordinate Derivative vs Index')\n",
    "    plt.legend()\n",
    "    plt.show()\n",
    "\n",
    "    # Plot y-coordinates derivatives against indices\n",
    "    plt.plot(indices, derivatives_and_angles[:, 1], marker='o', linestyle='-', color='r', label='y-derivative')\n",
    "    plt.xlabel('Index')\n",
    "    plt.ylabel('Y-coordinate Derivative')\n",
    "    plt.title('Y-coordinate Derivative vs Index')\n",
    "    plt.legend()\n",
    "    plt.show()\n",
    "\n",
    "    # Plot angles against indices\n",
    "    plt.plot(indices, derivatives_and_angles[:, 2], marker='o', linestyle='-', color='g', label='angle (degrees)')\n",
    "    plt.xlabel('Index')\n",
    "    plt.ylabel('Angle (degrees)')\n",
    "    plt.title('Angle vs Index')\n",
    "    plt.legend()\n",
    "    plt.show()"
   ],
   "outputs": [],
   "execution_count": 25
  },
  {
   "cell_type": "code",
   "metadata": {
    "ExecuteTime": {
     "end_time": "2024-05-01T22:30:27.308076Z",
     "start_time": "2024-05-01T22:30:26.798420Z"
    }
   },
   "source": [
    "import numpy as np\n",
    "\n",
    "def calculate_derivatives_and_angles(coordinates):\n",
    "    # Convert coordinates to numpy array for easier manipulation\n",
    "    coordinates = np.array(coordinates)\n",
    "\n",
    "    # Calculate the derivatives\n",
    "    x_deriv = np.gradient(coordinates[:, 0])\n",
    "    y_deriv = np.gradient(coordinates[:, 1])\n",
    "\n",
    "    # Calculate the angles\n",
    "    angles = np.arctan2(y_deriv, x_deriv)\n",
    "\n",
    "    # Convert angles to degrees for better interpretation\n",
    "    angles_deg = np.degrees(angles)\n",
    "\n",
    "    # Combine derivatives and angles into a new 2D array\n",
    "    derivatives_and_angles = np.column_stack((x_deriv, y_deriv, angles_deg))\n",
    "\n",
    "    return derivatives_and_angles\n",
    "\n",
    "for set in reorganized_sets:\n",
    "    plot_coordinates(set)\n",
    "    deriv_angles = calculate_derivatives_and_angles(set)\n",
    "    plot_coordinates_with_derivatives_and_angles(deriv_angles)"
   ],
   "outputs": [
    {
     "data": {
      "text/plain": [
       "<Figure size 640x480 with 1 Axes>"
      ],
      "image/png": "[encoded data removed]"
     },
     "metadata": {},
     "output_type": "display_data"
    },
    {
     "data": {
      "text/plain": [
       "<Figure size 640x480 with 1 Axes>"
      ],
      "image/png": "[encoded data removed]"
     },
     "metadata": {},
     "output_type": "display_data"
    },
    {
     "ename": "IndexError",
     "evalue": "too many indices for array: array is 1-dimensional, but 2 were indexed",
     "output_type": "error",
     "traceback": [
      "\u001B[1;31m---------------------------------------------------------------------------\u001B[0m",
      "\u001B[1;31mIndexError\u001B[0m                                Traceback (most recent call last)",
      "Cell \u001B[1;32mIn[26], line 24\u001B[0m\n\u001B[0;32m     22\u001B[0m \u001B[38;5;28;01mfor\u001B[39;00m \u001B[38;5;28mset\u001B[39m \u001B[38;5;129;01min\u001B[39;00m reorganized_sets:\n\u001B[0;32m     23\u001B[0m     plot_coordinates(\u001B[38;5;28mset\u001B[39m)\n\u001B[1;32m---> 24\u001B[0m     deriv_angles \u001B[38;5;241m=\u001B[39m calculate_derivatives_and_angles(\u001B[38;5;28mset\u001B[39m)\n\u001B[0;32m     25\u001B[0m     plot_coordinates_with_derivatives_and_angles(deriv_angles)\n",
      "Cell \u001B[1;32mIn[26], line 8\u001B[0m, in \u001B[0;36mcalculate_derivatives_and_angles\u001B[1;34m(coordinates)\u001B[0m\n\u001B[0;32m      5\u001B[0m coordinates \u001B[38;5;241m=\u001B[39m np\u001B[38;5;241m.\u001B[39marray(coordinates)\n\u001B[0;32m      7\u001B[0m \u001B[38;5;66;03m# Calculate the derivatives\u001B[39;00m\n\u001B[1;32m----> 8\u001B[0m x_deriv \u001B[38;5;241m=\u001B[39m np\u001B[38;5;241m.\u001B[39mgradient(coordinates[:, \u001B[38;5;241m0\u001B[39m])\n\u001B[0;32m      9\u001B[0m y_deriv \u001B[38;5;241m=\u001B[39m np\u001B[38;5;241m.\u001B[39mgradient(coordinates[:, \u001B[38;5;241m1\u001B[39m])\n\u001B[0;32m     11\u001B[0m \u001B[38;5;66;03m# Calculate the angles\u001B[39;00m\n",
      "\u001B[1;31mIndexError\u001B[0m: too many indices for array: array is 1-dimensional, but 2 were indexed"
     ]
    }
   ],
   "execution_count": 26
  },
  {
   "cell_type": "code",
   "metadata": {
    "ExecuteTime": {
     "end_time": "2024-05-01T23:08:38.452279Z",
     "start_time": "2024-05-01T23:08:37.859858Z"
    }
   },
   "source": [
    "def calculate_angle_distance(angles1, angles2, threshold=20): # threshold mainly takes away from the calculated distance\n",
    "    # Convert angle lists to numpy arrays \n",
    "    angles1 = np.array(angles1)\n",
    "    angles2 = np.array(angles2)\n",
    "    \n",
    "    # threshold: \n",
    "    differences = np.abs(angles1 - angles2)\n",
    "    differences = np.where(differences < threshold, 0, differences - threshold)\n",
    "    \n",
    "    # Calculate Euclidean distance between the two sets of angles\n",
    "    distance = np.linalg.norm(differences) # if applying threshold change (angles1 - angles2) to differences\n",
    "    return distance\n",
    "\n",
    "# MARGIN OF ERROR \n",
    "\n",
    "def score_similarity(distance, scale=1, margin=50): # margin of error \n",
    "    adjusted_distance = max(0, distance - margin)\n",
    "    score = 1 / (1 + adjusted_distance * scale) #Adjust scale for sensitivity  \n",
    "    return score\n",
    "\n",
    "def get_count_and_process(directory_pro, directory_test): \n",
    "    count = 0\n",
    "    \n",
    "    files_pro = [f for f in os.listdir(directory_pro) if os.path.isfile(os.path.join(directory_pro, f))]\n",
    "    files_test = [f for f in os.listdir(directory_test) if os.path.isfile(os.path.join(directory_test, f))]\n",
    "    \n",
    "    print('Files in directory \"{}\": {}'.format(directory_pro, len(files_pro)))\n",
    "    print('Files in directory \"{}\": {}'.format(directory_test, len(files_test)))\n",
    "    \n",
    "    if len(files_pro) != len(files_test):\n",
    "        print(\"Directories don't have the same number of files\")\n",
    "        return\n",
    "    \n",
    "    distances = []\n",
    "    for file_pro, file_test in zip(sorted(files_pro), sorted(files_test)):\n",
    "        angles_frame_pro = calculate_angles(read_json(os.path.join(directory_pro, file_pro)))\n",
    "        angles_frame_test = calculate_angles(read_json(os.path.join(directory_test, file_test)))\n",
    "        \n",
    "        distance = calculate_angle_distance(angles_frame_pro, angles_frame_test)\n",
    "        distances.append(distance)\n",
    "    \n",
    "    if distances:\n",
    "        average_distance = np.mean(distances)\n",
    "        similarity_score = score_similarity(average_distance)\n",
    "        print(\"Average Distance: \", average_distance)\n",
    "        print(\"Similarity Score: \", similarity_score)\n",
    "\n",
    "directory_pro = \"single_leg_balance_pro_dir\"\n",
    "directory_test = \"single_leg_balance_test2_dir\"\n",
    "\n",
    "get_count_and_process(directory_pro, directory_test)"
   ],
   "outputs": [
    {
     "name": "stdout",
     "output_type": "stream",
     "text": [
      "Files in directory \"single_leg_balance_pro_dir\": 478\n",
      "Files in directory \"single_leg_balance_test2_dir\": 478\n",
      "Average Distance:  36.023115148176764\n",
      "Similarity Score:  1.0\n"
     ]
    }
   ],
   "execution_count": 77
  }
 ],
 "metadata": {
  "kernelspec": {
   "display_name": "Python 3",
   "language": "python",
   "name": "python3"
  },
  "language_info": {
   "codemirror_mode": {
    "name": "ipython",
    "version": 3
   },
   "file_extension": ".py",
   "mimetype": "text/x-python",
   "name": "python",
   "nbconvert_exporter": "python",
   "pygments_lexer": "ipython3",
   "version": "3.10.2"
  }
 },
 "nbformat": 4,
 "nbformat_minor": 2
}
